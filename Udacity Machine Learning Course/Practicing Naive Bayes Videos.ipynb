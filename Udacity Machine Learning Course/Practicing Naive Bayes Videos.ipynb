{
 "cells": [
  {
   "cell_type": "code",
   "execution_count": 21,
   "id": "058d8fc0",
   "metadata": {},
   "outputs": [
    {
     "name": "stdout",
     "output_type": "stream",
     "text": [
      "[1]\n",
      "[1]\n"
     ]
    }
   ],
   "source": [
    "import numpy as np\n",
    "X = np.array([[-1, -1], [-2, -1], [-3, -2], [1, 1], [2, 1], [3, 2]])\n",
    "Y = np.array([1, 1, 1, 2, 2, 2])\n",
    "from sklearn.naive_bayes import GaussianNB\n",
    "clf = GaussianNB()\n",
    "\n",
    "clf.fit(X, Y)  # fit means training the data.\n",
    "# And traing means creating a classifier or Decision Surface.\n",
    "\n",
    "print(clf.predict([[-0.8, -1]]))\n",
    "clf_pf = GaussianNB()\n",
    "clf_pf.partial_fit(X, Y, np.unique(Y))\n",
    "print(clf_pf.predict([[-0.8, -1]]))"
   ]
  },
  {
   "cell_type": "code",
   "execution_count": 8,
   "id": "54e025c9",
   "metadata": {},
   "outputs": [
    {
     "name": "stdout",
     "output_type": "stream",
     "text": [
      "[2]\n"
     ]
    }
   ],
   "source": [
    "# trying myself out the above example\n",
    "import numpy as np\n",
    "X = np.array([[-1, -1], [-2, -1], [-3, -2], [1, 1], [2, 1], [3, 2]])\n",
    "Y = np.array([1, 1, 1, 2, 2, 2])\n",
    "from sklearn.naive_bayes import GaussianNB\n",
    "clf=GaussianNB()\n",
    "clf.fit(X,Y)\n",
    "print(clf.predict([[56,-1]]))"
   ]
  },
  {
   "cell_type": "code",
   "execution_count": 20,
   "id": "201fdec8",
   "metadata": {},
   "outputs": [
    {
     "name": "stdout",
     "output_type": "stream",
     "text": [
      "[1]\n"
     ]
    }
   ],
   "source": [
    "clf_pf.partial_fit(X,Y,np.unique(Y))\n",
    "print(clf_pf.predict([[-.8,0.4]]))"
   ]
  },
  {
   "cell_type": "code",
   "execution_count": 5,
   "id": "c71e2028",
   "metadata": {},
   "outputs": [
    {
     "data": {
      "text/plain": [
       "array([[[ 1,  2,  3],\n",
       "        [ 4,  5,  6]],\n",
       "\n",
       "       [[ 0,  7,  8],\n",
       "        [ 9, 10, 56]]])"
      ]
     },
     "execution_count": 5,
     "metadata": {},
     "output_type": "execute_result"
    }
   ],
   "source": [
    "import numpy as np\n",
    "np.r_[np.array([[\n",
    "    [1,2,3],\n",
    "    [4,5,6]\n",
    "]]),np.array([[\n",
    "    [0,7,8],\n",
    "    [9,10,56]\n",
    "]])]"
   ]
  },
  {
   "cell_type": "code",
   "execution_count": 10,
   "id": "45d6e773",
   "metadata": {},
   "outputs": [
    {
     "name": "stdout",
     "output_type": "stream",
     "text": [
      "[0.23604808973743452, 0.1031660342307158, 0.396058242610681, 0.15497227080241027, 0.06651509567958991, 0.40159101448507484, 0.9179550430877189, 0.8004523514958085, 0.7651626025054384] \n",
      "\n",
      "0.0007243156433105469\n",
      "[0.23604808973743452, 0.1031660342307158, 0.396058242610681, 0.15497227080241027, 0.06651509567958991, 0.40159101448507484, 0.9179550430877189, 0.8004523514958085, 0.7651626025054384] \n",
      "\n",
      "0.0007243156433105469\n",
      "[0.23604808973743452, 0.1031660342307158, 0.396058242610681, 0.15497227080241027, 0.06651509567958991, 0.40159101448507484, 0.9179550430877189, 0.8004523514958085, 0.7651626025054384] \n",
      "\n",
      "0.0007243156433105469\n",
      "[0.23604808973743452, 0.1031660342307158, 0.396058242610681, 0.15497227080241027, 0.06651509567958991, 0.40159101448507484, 0.9179550430877189, 0.8004523514958085, 0.7651626025054384] \n",
      "\n",
      "0.0012631416320800781\n"
     ]
    }
   ],
   "source": [
    "import random\n",
    "from time import time\n",
    "\n",
    "t0=time()\n",
    "def main():\n",
    "    random.seed(4)\n",
    "    li=[random.random() for _ in range(1,10)]\n",
    "    print(li,\"\\n\")\n",
    "    print(time()-t0)\n",
    "    \n",
    "for _ in range(4):\n",
    "    main()\n"
   ]
  },
  {
   "cell_type": "markdown",
   "id": "05d23909",
   "metadata": {},
   "source": [
    "**Checkout the code of naive bayes on the udacity ml course, i had done some questions there.**\n",
    "* Go on there website and check in the Naive Bayes module."
   ]
  },
  {
   "cell_type": "code",
   "execution_count": 3,
   "id": "36372f32",
   "metadata": {},
   "outputs": [
    {
     "name": "stdout",
     "output_type": "stream",
     "text": [
      "1690374222.7505507\n"
     ]
    }
   ],
   "source": [
    "print(time())"
   ]
  },
  {
   "cell_type": "code",
   "execution_count": 3,
   "id": "5f93045b",
   "metadata": {},
   "outputs": [],
   "source": [
    "from sklearn.naive_bayes import GaussianNB\n",
    "from sklearn.model_selection import train_test_split\n",
    "import numpy as np"
   ]
  },
  {
   "cell_type": "code",
   "execution_count": null,
   "id": "7e664700",
   "metadata": {},
   "outputs": [],
   "source": [
    "X = np.array([1,2,3,4,5,6])\n",
    "Y ="
   ]
  }
 ],
 "metadata": {
  "kernelspec": {
   "display_name": "Python 3 (ipykernel)",
   "language": "python",
   "name": "python3"
  },
  "language_info": {
   "codemirror_mode": {
    "name": "ipython",
    "version": 3
   },
   "file_extension": ".py",
   "mimetype": "text/x-python",
   "name": "python",
   "nbconvert_exporter": "python",
   "pygments_lexer": "ipython3",
   "version": "3.10.9"
  }
 },
 "nbformat": 4,
 "nbformat_minor": 5
}
