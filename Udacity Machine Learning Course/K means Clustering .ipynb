{
 "cells": [
  {
   "cell_type": "code",
   "execution_count": 1,
   "id": "e614d532",
   "metadata": {},
   "outputs": [],
   "source": [
    "import numpy as np"
   ]
  },
  {
   "cell_type": "code",
   "execution_count": 10,
   "id": "8783c03b",
   "metadata": {},
   "outputs": [],
   "source": [
    "x = -2 * np.random.rand(100,2)"
   ]
  },
  {
   "cell_type": "code",
   "execution_count": 25,
   "id": "2fe4f353",
   "metadata": {},
   "outputs": [
    {
     "data": {
      "text/plain": [
       "array([-1.98186892, -0.45136222, -1.15177445, -0.47009601, -0.78751935,\n",
       "       -1.93228791, -1.38711419, -0.91739632])"
      ]
     },
     "execution_count": 25,
     "metadata": {},
     "output_type": "execute_result"
    }
   ],
   "source": [
    "x[0:8,0]"
   ]
  },
  {
   "cell_type": "code",
   "execution_count": 22,
   "id": "532f6385",
   "metadata": {},
   "outputs": [],
   "source": [
    "a = np.array([1,2])\n",
    "a = a.reshape(1,-1)"
   ]
  },
  {
   "cell_type": "code",
   "execution_count": 23,
   "id": "e8a5db28",
   "metadata": {},
   "outputs": [
    {
     "data": {
      "text/plain": [
       "array([[1, 2]])"
      ]
     },
     "execution_count": 23,
     "metadata": {},
     "output_type": "execute_result"
    }
   ],
   "source": [
    "a"
   ]
  },
  {
   "cell_type": "code",
   "execution_count": 30,
   "id": "1bb72407",
   "metadata": {},
   "outputs": [],
   "source": [
    "b = np.array([[1,2],[3,4],[2,3]])"
   ]
  },
  {
   "cell_type": "code",
   "execution_count": 51,
   "id": "5ff34367",
   "metadata": {},
   "outputs": [
    {
     "data": {
      "text/plain": [
       "array([1])"
      ]
     },
     "execution_count": 51,
     "metadata": {},
     "output_type": "execute_result"
    }
   ],
   "source": [
    "b[,0]"
   ]
  },
  {
   "cell_type": "code",
   "execution_count": 12,
   "id": "290e2a30",
   "metadata": {},
   "outputs": [],
   "source": [
    "d_o_d = {\"names\":{1:'gyan',2:'deepesh',3:'tushar'},\n",
    "        'class':{1:\"cse\",2:'ece',3:'mechanical'}}"
   ]
  },
  {
   "cell_type": "code",
   "execution_count": 16,
   "id": "8cf3938e",
   "metadata": {},
   "outputs": [
    {
     "data": {
      "text/plain": [
       "'mechanical'"
      ]
     },
     "execution_count": 16,
     "metadata": {},
     "output_type": "execute_result"
    }
   ],
   "source": [
    "d_o_d['class'][3]"
   ]
  },
  {
   "cell_type": "code",
   "execution_count": 45,
   "id": "c20b7579",
   "metadata": {},
   "outputs": [],
   "source": [
    "f = [[1,3,4,5,5,6],[9,8,7]]"
   ]
  },
  {
   "cell_type": "code",
   "execution_count": 55,
   "id": "87e69387",
   "metadata": {},
   "outputs": [
    {
     "data": {
      "text/plain": [
       "[[1, 3, 4, 5, 5, 6], [9, 8, 7]]"
      ]
     },
     "execution_count": 55,
     "metadata": {},
     "output_type": "execute_result"
    }
   ],
   "source": [
    "f[:][:int(len(f[0])*0.9)]"
   ]
  },
  {
   "cell_type": "code",
   "execution_count": null,
   "id": "b55807b0",
   "metadata": {},
   "outputs": [],
   "source": []
  }
 ],
 "metadata": {
  "kernelspec": {
   "display_name": "Python 3 (ipykernel)",
   "language": "python",
   "name": "python3"
  },
  "language_info": {
   "codemirror_mode": {
    "name": "ipython",
    "version": 3
   },
   "file_extension": ".py",
   "mimetype": "text/x-python",
   "name": "python",
   "nbconvert_exporter": "python",
   "pygments_lexer": "ipython3",
   "version": "3.10.9"
  }
 },
 "nbformat": 4,
 "nbformat_minor": 5
}
